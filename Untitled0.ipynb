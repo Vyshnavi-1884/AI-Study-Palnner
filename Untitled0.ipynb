{
  "nbformat": 4,
  "nbformat_minor": 0,
  "metadata": {
    "colab": {
      "provenance": [],
      "authorship_tag": "ABX9TyPis/zn5gP1eKR7Gy5DcKZq",
      "include_colab_link": true
    },
    "kernelspec": {
      "name": "python3",
      "display_name": "Python 3"
    },
    "language_info": {
      "name": "python"
    }
  },
  "cells": [
    {
      "cell_type": "markdown",
      "metadata": {
        "id": "view-in-github",
        "colab_type": "text"
      },
      "source": [
        "<a href=\"https://colab.research.google.com/github/Vyshnavi-1884/vyshnavi/blob/main/Untitled0.ipynb\" target=\"_parent\"><img src=\"https://colab.research.google.com/assets/colab-badge.svg\" alt=\"Open In Colab\"/></a>"
      ]
    },
    {
      "cell_type": "code",
      "execution_count": 1,
      "metadata": {
        "colab": {
          "base_uri": "https://localhost:8080/",
          "height": 471
        },
        "id": "f2vlSXLqqzok",
        "outputId": "983699c5-b686-4c5f-9218-c783a659beb9"
      },
      "outputs": [
        {
          "name": "stdout",
          "output_type": "stream",
          "text": [
            "\n",
            "📖 IA Study Planner\n",
            "1️⃣ Add Subject\n",
            "2️⃣ View Study Plan\n",
            "3️⃣ Mark Subject as Completed\n",
            "4️⃣ Exit\n",
            "Select an option: 3\n",
            "Enter subject to mark as completed: maths\n"
          ]
        },
        {
          "output_type": "error",
          "ename": "AttributeError",
          "evalue": "'IAStudyPlanner' object has no attribute 'study_plan'",
          "traceback": [
            "\u001b[0;31m---------------------------------------------------------------------------\u001b[0m",
            "\u001b[0;31mAttributeError\u001b[0m                            Traceback (most recent call last)",
            "\u001b[0;32m<ipython-input-1-f14b142411d9>\u001b[0m in \u001b[0;36m<cell line: 0>\u001b[0;34m()\u001b[0m\n\u001b[1;32m     73\u001b[0m     \u001b[0;32melif\u001b[0m \u001b[0mchoice\u001b[0m \u001b[0;34m==\u001b[0m \u001b[0;34m\"3\"\u001b[0m\u001b[0;34m:\u001b[0m\u001b[0;34m\u001b[0m\u001b[0;34m\u001b[0m\u001b[0m\n\u001b[1;32m     74\u001b[0m         \u001b[0msubject\u001b[0m \u001b[0;34m=\u001b[0m \u001b[0minput\u001b[0m\u001b[0;34m(\u001b[0m\u001b[0;34m\"Enter subject to mark as completed: \"\u001b[0m\u001b[0;34m)\u001b[0m\u001b[0;34m\u001b[0m\u001b[0;34m\u001b[0m\u001b[0m\n\u001b[0;32m---> 75\u001b[0;31m         \u001b[0mplanner\u001b[0m\u001b[0;34m.\u001b[0m\u001b[0mmark_completed\u001b[0m\u001b[0;34m(\u001b[0m\u001b[0msubject\u001b[0m\u001b[0;34m)\u001b[0m\u001b[0;34m\u001b[0m\u001b[0;34m\u001b[0m\u001b[0m\n\u001b[0m\u001b[1;32m     76\u001b[0m \u001b[0;34m\u001b[0m\u001b[0m\n\u001b[1;32m     77\u001b[0m     \u001b[0;32melif\u001b[0m \u001b[0mchoice\u001b[0m \u001b[0;34m==\u001b[0m \u001b[0;34m\"4\"\u001b[0m\u001b[0;34m:\u001b[0m\u001b[0;34m\u001b[0m\u001b[0;34m\u001b[0m\u001b[0m\n",
            "\u001b[0;32m<ipython-input-1-f14b142411d9>\u001b[0m in \u001b[0;36mmark_completed\u001b[0;34m(self, subject)\u001b[0m\n\u001b[1;32m     30\u001b[0m     \u001b[0;32mdef\u001b[0m \u001b[0mmark_completed\u001b[0m\u001b[0;34m(\u001b[0m\u001b[0mself\u001b[0m\u001b[0;34m,\u001b[0m \u001b[0msubject\u001b[0m\u001b[0;34m)\u001b[0m\u001b[0;34m:\u001b[0m\u001b[0;34m\u001b[0m\u001b[0;34m\u001b[0m\u001b[0m\n\u001b[1;32m     31\u001b[0m         \u001b[0;34m\"\"\"Mark a subject as completed\"\"\"\u001b[0m\u001b[0;34m\u001b[0m\u001b[0;34m\u001b[0m\u001b[0m\n\u001b[0;32m---> 32\u001b[0;31m         \u001b[0;32mif\u001b[0m \u001b[0msubject\u001b[0m \u001b[0;32min\u001b[0m \u001b[0mself\u001b[0m\u001b[0;34m.\u001b[0m\u001b[0mstudy_plan\u001b[0m\u001b[0;34m:\u001b[0m\u001b[0;34m\u001b[0m\u001b[0;34m\u001b[0m\u001b[0m\n\u001b[0m\u001b[1;32m     33\u001b[0m             \u001b[0mself\u001b[0m\u001b[0;34m.\u001b[0m\u001b[0mstudy_plan\u001b[0m\u001b[0;34m[\u001b[0m\u001b[0msubject\u001b[0m\u001b[0;34m]\u001b[0m\u001b[0;34m[\u001b[0m\u001b[0;34m\"completed\"\u001b[0m\u001b[0;34m]\u001b[0m \u001b[0;34m=\u001b[0m \u001b[0;32mTrue\u001b[0m\u001b[0;34m\u001b[0m\u001b[0;34m\u001b[0m\u001b[0m\n\u001b[1;32m     34\u001b[0m             \u001b[0mself\u001b[0m\u001b[0;34m.\u001b[0m\u001b[0msave_data\u001b[0m\u001b[0;34m(\u001b[0m\u001b[0;34m)\u001b[0m\u001b[0;34m\u001b[0m\u001b[0;34m\u001b[0m\u001b[0m\n",
            "\u001b[0;31mAttributeError\u001b[0m: 'IAStudyPlanner' object has no attribute 'study_plan'"
          ]
        }
      ],
      "source": [
        "import json\n",
        "from datetime import datetime, timedelta\n",
        "\n",
        "class IAStudyPlanner:\n",
        "    def _init_(self):\n",
        "        self.study_plan = {}\n",
        "        self.load_data()\n",
        "\n",
        "    def add_subject(self, subject, deadline, hours):\n",
        "        \"\"\"Add a new subject with a deadline and allocated study hours\"\"\"\n",
        "        self.study_plan[subject] = {\n",
        "            \"deadline\": deadline,\n",
        "            \"hours_needed\": hours,\n",
        "            \"completed\": False\n",
        "        }\n",
        "        self.save_data()\n",
        "        print(f\"✅ {subject} added successfully!\")\n",
        "\n",
        "    def view_plan(self):\n",
        "        \"\"\"Display the current study plan\"\"\"\n",
        "        if not self.study_plan:\n",
        "            print(\"📌 No subjects added yet!\")\n",
        "            return\n",
        "\n",
        "        print(\"\\n📚 *Study Plan*:\")\n",
        "        for subject, details in self.study_plan.items():\n",
        "            status = \"✅ Completed\" if details[\"completed\"] else \"⏳ In Progress\"\n",
        "            print(f\"📌 {subject}: {details['hours_needed']} hours (Deadline: {details['deadline']}) - {status}\")\n",
        "\n",
        "    def mark_completed(self, subject):\n",
        "        \"\"\"Mark a subject as completed\"\"\"\n",
        "        if subject in self.study_plan:\n",
        "            self.study_plan[subject][\"completed\"] = True\n",
        "            self.save_data()\n",
        "            print(f\"🎉 {subject} marked as completed!\")\n",
        "        else:\n",
        "            print(f\"⚠ {subject} not found in the study plan.\")\n",
        "\n",
        "    def save_data(self):\n",
        "        \"\"\"Save study plan to a JSON file\"\"\"\n",
        "        with open(\"study_plan.json\", \"w\") as file:\n",
        "            json.dump(self.study_plan, file, indent=4)\n",
        "\n",
        "    def load_data(self):\n",
        "        \"\"\"Load study plan from JSON file\"\"\"\n",
        "        try:\n",
        "            with open(\"study_plan.json\", \"r\") as file:\n",
        "                self.study_plan = json.load(file)\n",
        "        except FileNotFoundError:\n",
        "            self.study_plan = {}\n",
        "\n",
        "# Usage\n",
        "planner = IAStudyPlanner()\n",
        "\n",
        "while True:\n",
        "    print(\"\\n📖 IA Study Planner\")\n",
        "    print(\"1️⃣ Add Subject\")\n",
        "    print(\"2️⃣ View Study Plan\")\n",
        "    print(\"3️⃣ Mark Subject as Completed\")\n",
        "    print(\"4️⃣ Exit\")\n",
        "\n",
        "    choice = input(\"Select an option: \")\n",
        "\n",
        "    if choice == \"1\":\n",
        "        subject = input(\"Enter subject name: \")\n",
        "        deadline = input(\"Enter deadline (YYYY-MM-DD): \")\n",
        "        hours = int(input(\"Enter total study hours needed: \"))\n",
        "        planner.add_subject(subject, deadline, hours)\n",
        "\n",
        "    elif choice == \"2\":\n",
        "        planner.view_plan()\n",
        "\n",
        "    elif choice == \"3\":\n",
        "        subject = input(\"Enter subject to mark as completed: \")\n",
        "        planner.mark_completed(subject)\n",
        "\n",
        "    elif choice == \"4\":\n",
        "        print(\"📌 Study planner saved. Goodbye!\")\n",
        "        break\n",
        "\n",
        "    else:\n",
        "        print(\"⚠ Invalid choice, please try again!\")"
      ]
    },
    {
      "cell_type": "code",
      "source": [
        "import json\n",
        "from datetime import datetime, timedelta\n",
        "\n",
        "class IAStudyPlanner:\n",
        "    def _init_(self):\n",
        "        self.study_plan = {}\n",
        "        self.load_data()\n",
        "\n",
        "    def add_subject(self, subject, deadline, hours):\n",
        "        \"\"\"Add a new subject with a deadline and allocated study hours\"\"\"\n",
        "        self.study_plan[subject] = {\n",
        "            \"deadline\": deadline,\n",
        "            \"hours_needed\": hours,\n",
        "            \"completed\": False\n",
        "        }\n",
        "        self.save_data()\n",
        "        print(f\"✅ {subject} added successfully!\")\n",
        "\n",
        "    def view_plan(self):\n",
        "        \"\"\"Display the current study plan\"\"\"\n",
        "        if not self.study_plan:\n",
        "            print(\"📌 No subjects added yet!\")\n",
        "            return\n",
        "\n",
        "        print(\"\\n📚 *Study Plan*:\")\n",
        "        for subject, details in self.study_plan.items():\n",
        "            status = \"✅ Completed\" if details[\"completed\"] else \"⏳ In Progress\"\n",
        "            print(f\"📌 {subject}: {details['hours_needed']} hours (Deadline: {details['deadline']}) - {status}\")\n",
        "\n",
        "    def mark_completed(self, subject):\n",
        "        \"\"\"Mark a subject as completed\"\"\"\n",
        "        if subject in self.study_plan:\n",
        "            self.study_plan[subject][\"completed\"] = True\n",
        "            self.save_data()\n",
        "            print(f\"🎉 {subject} marked as completed!\")\n",
        "        else:\n",
        "            print(f\"⚠ {subject} not found in the study plan.\")\n",
        "\n",
        "    def save_data(self):\n",
        "        \"\"\"Save study plan to a JSON file\"\"\"\n",
        "        with open(\"study_plan.json\", \"w\") as file:\n",
        "            json.dump(self.study_plan, file, indent=4)\n",
        "\n",
        "    def load_data(self):\n",
        "        \"\"\"Load study plan from JSON file\"\"\"\n",
        "        try:\n",
        "            with open(\"study_plan.json\", \"r\") as file:\n",
        "                self.study_plan = json.load(file)\n",
        "        except FileNotFoundError:\n",
        "            self.study_plan = {}\n",
        "\n",
        "# Usage\n",
        "planner = IAStudyPlanner()\n",
        "\n",
        "while True:\n",
        "    print(\"\\n📖 IA Study Planner\")\n",
        "    print(\"1️⃣ Add Subject\")\n",
        "    print(\"2️⃣ View Study Plan\")\n",
        "    print(\"3️⃣ Mark Subject as Completed\")\n",
        "    print(\"4️⃣ Exit\")\n",
        "\n",
        "    choice = input(\"Select an option: \")\n",
        "\n",
        "    if choice == \"1\":\n",
        "        subject = input(\"Enter subject name: \")\n",
        "        deadline = input(\"Enter deadline (YYYY-MM-DD): \")\n",
        "        hours = int(input(\"Enter total study hours needed: \"))\n",
        "        planner.add_subject(subject, deadline, hours)\n",
        "\n",
        "    elif choice == \"2\":\n",
        "        planner.view_plan()\n",
        "\n",
        "    elif choice == \"3\":\n",
        "        subject = input(\"Enter subject to mark as completed: \")\n",
        "        planner.mark_completed(subject)\n",
        "\n",
        "    elif choice == \"4\":\n",
        "        print(\"📌 Study planner saved. Goodbye!\")\n",
        "        break\n",
        "\n",
        "    else:\n",
        "        print(\"⚠ Invalid choice, please try again!\")"
      ],
      "metadata": {
        "colab": {
          "base_uri": "https://localhost:8080/"
        },
        "id": "GBeg9Vsdrzwr",
        "outputId": "72fc131d-dd8f-4f78-9456-3aab5ed3ff5e"
      },
      "execution_count": null,
      "outputs": [
        {
          "output_type": "stream",
          "name": "stdout",
          "text": [
            "\n",
            "📖 IA Study Planner\n",
            "1️⃣ Add Subject\n",
            "2️⃣ View Study Plan\n",
            "3️⃣ Mark Subject as Completed\n",
            "4️⃣ Exit\n"
          ]
        }
      ]
    },
    {
      "cell_type": "code",
      "source": [],
      "metadata": {
        "id": "UzQF4-AJrVWL"
      },
      "execution_count": null,
      "outputs": []
    }
  ]
}